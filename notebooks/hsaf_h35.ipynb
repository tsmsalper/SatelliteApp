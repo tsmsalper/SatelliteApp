{
 "cells": [
  {
   "cell_type": "code",
   "execution_count": 1,
   "id": "af7ce259",
   "metadata": {},
   "outputs": [],
   "source": [
    "import warnings\n",
    "warnings.simplefilter(\"ignore\")\n",
    "\n",
    "import gc\n",
    "from operator import length_hint\n",
    "import numpy as np\n",
    "from datetime import datetime,timedelta\n",
    "from glob import glob\n",
    "\n",
    "import pygrib\n",
    "import matplotlib.pyplot as plt\n",
    "import matplotlib.colors as colors\n",
    "from mpl_toolkits.basemap import Basemap\n",
    "from mpl_toolkits.basemap import shiftgrid"
   ]
  },
  {
   "cell_type": "code",
   "execution_count": 2,
   "id": "655dbf5f",
   "metadata": {},
   "outputs": [],
   "source": [
    "input_dir  = \"../input/\"\n",
    "output_dir = \"../output/\"\n",
    "flist_     = glob(input_dir+\"h35*\")\n",
    "latcorners = [33,45]\n",
    "loncorners = [23,48]\n",
    "total_files=length_hint(flist_)"
   ]
  },
  {
   "cell_type": "code",
   "execution_count": 3,
   "id": "d9a06078",
   "metadata": {},
   "outputs": [],
   "source": [
    "rgb = np.load(\"../auxilary/H35_cmap.npz\")\n",
    "newcmp = colors.ListedColormap(rgb[\"rgb\"], \"\")"
   ]
  },
  {
   "cell_type": "markdown",
   "id": "d28a1fa5",
   "metadata": {},
   "source": [
    "# for the multible input files\n",
    "\n",
    "for file_ in flist_:\n",
    "  date_=file_.split(\"/\")[-1].split(\".\")[0].split(\"_\")[1]\n",
    "  grbs = pygrib.open(file_)\n",
    "  grb = grbs.select()[0]\n",
    "  del grbs\n",
    "  data = grb.values\n",
    "  lons = np.linspace(float(grb['longitudeOfFirstGridPointInDegrees'])-360 ,\\\n",
    "                     float(grb['longitudeOfLastGridPointInDegrees']), int(grb['Ni']))\n",
    "  lats = np.linspace(float(grb['latitudeOfFirstGridPointInDegrees']), \\\n",
    "                     float(grb['latitudeOfLastGridPointInDegrees']), int(grb['Nj']))\n",
    "  del grb\n",
    "  lat0=np.where(lats<=latcorners[0])[0][0]\n",
    "  lat1=np.where(lats<=latcorners[1])[0][0]\n",
    "  lon0=np.where(lons>=loncorners[0])[0][0]\n",
    "  lon1=np.where(lons>=loncorners[1])[0][0]\n",
    "  trk_esc=data[lat1:lat0,lon0:lon1]\n",
    "  del data\n",
    "  trk_lons=lons[lon0:lon1]\n",
    "  trk_lats=lats[lat1:lat0]\n",
    "  del lons,lats\n",
    "  trk_lon,trk_lat=np.meshgrid(trk_lons,trk_lats)\n",
    "  del trk_lons,trk_lats\n",
    "  m = Basemap(projection='merc', resolution='h', area_thresh=1000.,\\\n",
    "              llcrnrlat=latcorners[0],urcrnrlat=latcorners[1],\\\n",
    "              llcrnrlon=loncorners[0],urcrnrlon=loncorners[1])\n",
    "  m.drawcountries()\n",
    "  m.drawcoastlines()\n",
    "  m1=m.pcolor(trk_lon,trk_lat,trk_esc,latlon=True,cmap=newcmp)\n",
    "  plt.axis('off')\n",
    "  plt.savefig(output_dir+\"Turk_H35_\"+date_+\".png\", transparent=True,\\\n",
    "            dpi=200, bbox_inches='tight', pad_inches = 0)\n",
    "  plt.close()\n",
    "  gc.collect()"
   ]
  },
  {
   "cell_type": "code",
   "execution_count": 4,
   "id": "598a71b1",
   "metadata": {},
   "outputs": [
    {
     "data": {
      "text/plain": [
       "0"
      ]
     },
     "execution_count": 4,
     "metadata": {},
     "output_type": "execute_result"
    }
   ],
   "source": [
    "file_=flist_[2]\n",
    "date_=file_.split(\"/\")[-1].split(\".\")[0].split(\"_\")[1]\n",
    "grbs = pygrib.open(file_)\n",
    "grb = grbs.select()[0]\n",
    "del grbs\n",
    "data = grb.values\n",
    "lons = np.linspace(float(grb['longitudeOfFirstGridPointInDegrees'])-360 ,\\\n",
    "                   float(grb['longitudeOfLastGridPointInDegrees']), int(grb['Ni']))\n",
    "lats = np.linspace(float(grb['latitudeOfFirstGridPointInDegrees']), \\\n",
    "                   float(grb['latitudeOfLastGridPointInDegrees']), int(grb['Nj']))\n",
    "del grb\n",
    "lat0=np.where(lats<=latcorners[0])[0][0]\n",
    "lat1=np.where(lats<=latcorners[1])[0][0]\n",
    "lon0=np.where(lons>=loncorners[0])[0][0]\n",
    "lon1=np.where(lons>=loncorners[1])[0][0]\n",
    "trk_esc=data[lat1:lat0,lon0:lon1]\n",
    "del data\n",
    "trk_lons=lons[lon0:lon1]\n",
    "trk_lats=lats[lat1:lat0]\n",
    "del lons,lats\n",
    "trk_lon,trk_lat=np.meshgrid(trk_lons,trk_lats)\n",
    "del trk_lons,trk_lats\n",
    "m = Basemap(projection='merc', resolution='h', area_thresh=1000.,\\\n",
    "            llcrnrlat=latcorners[0],urcrnrlat=latcorners[1],\\\n",
    "            llcrnrlon=loncorners[0],urcrnrlon=loncorners[1])\n",
    "m.drawcountries()\n",
    "m.drawcoastlines()\n",
    "m1=m.pcolor(trk_lon,trk_lat,trk_esc,latlon=True,cmap=newcmp)\n",
    "plt.axis('off')\n",
    "plt.savefig(output_dir+\"Turk_H35_\"+date_+\".png\", transparent=True,\\\n",
    "          dpi=200, bbox_inches='tight', pad_inches = 0)\n",
    "plt.close()\n",
    "gc.collect()"
   ]
  },
  {
   "cell_type": "code",
   "execution_count": null,
   "id": "ac3af89f",
   "metadata": {},
   "outputs": [],
   "source": []
  }
 ],
 "metadata": {
  "kernelspec": {
   "display_name": "Python 3 (ipykernel)",
   "language": "python",
   "name": "python3"
  },
  "language_info": {
   "codemirror_mode": {
    "name": "ipython",
    "version": 3
   },
   "file_extension": ".py",
   "mimetype": "text/x-python",
   "name": "python",
   "nbconvert_exporter": "python",
   "pygments_lexer": "ipython3",
   "version": "3.8.12"
  }
 },
 "nbformat": 4,
 "nbformat_minor": 5
}

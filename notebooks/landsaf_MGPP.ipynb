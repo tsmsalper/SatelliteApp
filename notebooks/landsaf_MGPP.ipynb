{
 "cells": [
  {
   "cell_type": "markdown",
   "id": "4ef7b9b7",
   "metadata": {},
   "source": [
    "This code visualize 10 Day Gross Primary Production Product of Landsaf for Turkiye Domain"
   ]
  },
  {
   "cell_type": "code",
   "execution_count": 1,
   "id": "a266a4c5",
   "metadata": {},
   "outputs": [],
   "source": [
    "import numpy as np\n",
    "from netCDF4 import Dataset\n",
    "import glob\n",
    "import matplotlib.pyplot as plt\n",
    "from mpl_toolkits.basemap import Basemap"
   ]
  },
  {
   "cell_type": "code",
   "execution_count": 2,
   "id": "a13e4c41",
   "metadata": {},
   "outputs": [],
   "source": [
    "input_dir=\"../input/\"\n",
    "output_dir=\"../output/\"\n",
    "latcorners = [33,45]\n",
    "loncorners = [23,48]"
   ]
  },
  {
   "cell_type": "code",
   "execution_count": 3,
   "id": "55d56772",
   "metadata": {},
   "outputs": [],
   "source": [
    "flist_=glob.glob(input_dir+\"NETCDF4_LSASAF_MSG_MGPP*nc\")"
   ]
  },
  {
   "cell_type": "code",
   "execution_count": 4,
   "id": "7f97b64c",
   "metadata": {},
   "outputs": [],
   "source": [
    "file=flist_[1]\n",
    "file_ds=Dataset(file)\n",
    "lai_lat=file_ds.variables[\"lat\"][:]\n",
    "lai_lon=file_ds.variables[\"lon\"][:]\n",
    "latli = np.argmin( np.abs( lai_lat - latcorners[0] ) )\n",
    "latui = np.argmin( np.abs( lai_lat - latcorners[1] ) ) "
   ]
  },
  {
   "cell_type": "code",
   "execution_count": 5,
   "id": "1ee72f53",
   "metadata": {},
   "outputs": [],
   "source": [
    "lonli = np.argmin( np.abs( lai_lon - loncorners[0] ) )\n",
    "lonui = np.argmin( np.abs( lai_lon - loncorners[1] ) )  \n",
    "trk_lai = file_ds.variables[\"GPP 10D\"][:,latui:latli,lonli:lonui]"
   ]
  },
  {
   "cell_type": "code",
   "execution_count": 6,
   "id": "5dbb04df",
   "metadata": {},
   "outputs": [],
   "source": [
    "trk_masked=trk_lai.data[0]\n",
    "trk_masked[np.where(trk_lai.mask[0]==True)]=np.nan\n",
    "m = Basemap(resolution='h',\\\n",
    "            llcrnrlat=latcorners[0],urcrnrlat=latcorners[1],\\\n",
    "            llcrnrlon=loncorners[0],urcrnrlon=loncorners[1])\n",
    "m.drawcoastlines()\n",
    "m.drawcountries()\n",
    "m.imshow(trk_masked[::-1],vmin=.1,vmax=10.9,cmap=\"jet\")\n",
    "jpeg_name=file.split(\"/\")[-1].split(\".\")[0].split(\"_\")[-1]\n",
    "plt.axis('off')\n",
    "plt.savefig(output_dir+\"Turk_MGPP_\"+jpeg_name+\".png\", transparent=True,\\\n",
    "            dpi=200, bbox_inches='tight', pad_inches = 0)\n",
    "plt.cla()\n",
    "plt.clf()\n",
    "plt.close()"
   ]
  },
  {
   "cell_type": "code",
   "execution_count": null,
   "id": "b9df5d3b",
   "metadata": {},
   "outputs": [],
   "source": []
  }
 ],
 "metadata": {
  "kernelspec": {
   "display_name": "Python 3 (ipykernel)",
   "language": "python",
   "name": "python3"
  },
  "language_info": {
   "codemirror_mode": {
    "name": "ipython",
    "version": 3
   },
   "file_extension": ".py",
   "mimetype": "text/x-python",
   "name": "python",
   "nbconvert_exporter": "python",
   "pygments_lexer": "ipython3",
   "version": "3.8.12"
  }
 },
 "nbformat": 4,
 "nbformat_minor": 5
}

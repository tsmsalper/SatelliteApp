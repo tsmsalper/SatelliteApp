{
 "cells": [
  {
   "cell_type": "markdown",
   "id": "176c99da",
   "metadata": {},
   "source": [
    "This code visualize 10 Day Average Leaf Area Index Product of Landsaf for Turkiye Domain"
   ]
  },
  {
   "cell_type": "code",
   "execution_count": 7,
   "id": "7c97bef8",
   "metadata": {},
   "outputs": [],
   "source": [
    "import numpy as np\n",
    "from sys import argv\n",
    "from netCDF4 import Dataset\n",
    "import glob\n",
    "import matplotlib.pyplot as plt\n",
    "from matplotlib.colors import LinearSegmentedColormap \n",
    "from mpl_toolkits.basemap import Basemap"
   ]
  },
  {
   "cell_type": "code",
   "execution_count": 8,
   "id": "9ffdf506",
   "metadata": {},
   "outputs": [],
   "source": [
    "input_dir=\"../input/\"\n",
    "output_dir=\"../output/\"\n",
    "latcorners = [33,45]\n",
    "loncorners = [23,48]"
   ]
  },
  {
   "cell_type": "code",
   "execution_count": 9,
   "id": "cbd29916",
   "metadata": {},
   "outputs": [],
   "source": [
    "flist_=glob.glob(input_dir+\"*nc\")"
   ]
  },
  {
   "cell_type": "code",
   "execution_count": 10,
   "id": "94faac43",
   "metadata": {},
   "outputs": [],
   "source": [
    "file=flist_[0]\n",
    "file_ds=Dataset(file)\n",
    "lai_lat=file_ds.variables[\"lat\"][:]\n",
    "lai_lon=file_ds.variables[\"lon\"][:]\n",
    "latli = np.argmin( np.abs( lai_lat - latcorners[0] ) )\n",
    "latui = np.argmin( np.abs( lai_lat - latcorners[1] ) ) "
   ]
  },
  {
   "cell_type": "code",
   "execution_count": 11,
   "id": "b427a64f",
   "metadata": {},
   "outputs": [],
   "source": [
    "lonli = np.argmin( np.abs( lai_lon - loncorners[0] ) )\n",
    "lonui = np.argmin( np.abs( lai_lon - loncorners[1] ) )  \n",
    "trk_lai = file_ds.variables[\"LAI\"][:,latui:latli,lonli:lonui]"
   ]
  },
  {
   "cell_type": "code",
   "execution_count": 12,
   "id": "5a527fa4",
   "metadata": {},
   "outputs": [],
   "source": [
    "trk_masked=trk_lai.data[0]\n",
    "trk_masked[np.where(trk_lai.mask[0]==True)]=np.nan\n",
    "m = Basemap(resolution='h',\\\n",
    "            llcrnrlat=latcorners[0],urcrnrlat=latcorners[1],\\\n",
    "            llcrnrlon=loncorners[0],urcrnrlon=loncorners[1])\n",
    "m.drawcoastlines()\n",
    "m.drawcountries()\n",
    "m.imshow(trk_masked[::-1],vmin=.1,vmax=6.9,cmap=\"YlGn\")\n",
    "jpeg_name=file.split(\"/\")[-1].split(\".\")[0].split(\"_\")[-1]\n",
    "plt.axis('off')\n",
    "plt.savefig(output_dir+\"Turk_LAI_\"+jpeg_name+\".png\", transparent=True,\\\n",
    "            dpi=200, bbox_inches='tight', pad_inches = 0)\n",
    "plt.cla()\n",
    "plt.clf()\n",
    "plt.close()"
   ]
  },
  {
   "cell_type": "code",
   "execution_count": null,
   "id": "01e08952",
   "metadata": {},
   "outputs": [],
   "source": []
  }
 ],
 "metadata": {
  "kernelspec": {
   "display_name": "Python 3 (ipykernel)",
   "language": "python",
   "name": "python3"
  },
  "language_info": {
   "codemirror_mode": {
    "name": "ipython",
    "version": 3
   },
   "file_extension": ".py",
   "mimetype": "text/x-python",
   "name": "python",
   "nbconvert_exporter": "python",
   "pygments_lexer": "ipython3",
   "version": "3.8.12"
  }
 },
 "nbformat": 4,
 "nbformat_minor": 5
}
